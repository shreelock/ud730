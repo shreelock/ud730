{
 "cells": [
  {
   "cell_type": "code",
   "execution_count": 1,
   "metadata": {},
   "outputs": [],
   "source": [
    "# These are all the modules we'll be using later. Make sure you can import them\n",
    "# before proceeding further.\n",
    "from __future__ import print_function\n",
    "import matplotlib.pyplot as plt\n",
    "import numpy as np\n",
    "import os\n",
    "import sys\n",
    "import tarfile\n",
    "from IPython.display import display, Image\n",
    "from scipy import ndimage\n",
    "from sklearn.linear_model import LogisticRegression\n",
    "from six.moves.urllib.request import urlretrieve\n",
    "from six.moves import cPickle as pickle\n",
    "\n",
    "# Config the matplotlib backend as plotting inline in IPython\n",
    "%matplotlib inline"
   ]
  },
  {
   "cell_type": "code",
   "execution_count": null,
   "metadata": {},
   "outputs": [],
   "source": []
  },
  {
   "cell_type": "code",
   "execution_count": 2,
   "metadata": {},
   "outputs": [
    {
     "name": "stdout",
     "output_type": "stream",
     "text": [
      "Found and verified ./notMNIST_large.tar.gz\n",
      "Found and verified ./notMNIST_small.tar.gz\n"
     ]
    }
   ],
   "source": [
    "url = 'https://commondatastorage.googleapis.com/books1000/'\n",
    "last_percent_reported = None\n",
    "data_root = '.' # Change me to store data elsewhere\n",
    "\n",
    "def download_progress_hook(count, blockSize, totalSize):\n",
    "  \"\"\"A hook to report the progress of a download. This is mostly intended for users with\n",
    "  slow internet connections. Reports every 5% change in download progress.\n",
    "  \"\"\"\n",
    "  global last_percent_reported\n",
    "  percent = int(count * blockSize * 100 / totalSize)\n",
    "\n",
    "  if last_percent_reported != percent:\n",
    "    if percent % 5 == 0:\n",
    "      sys.stdout.write(\"%s%%\" % percent)\n",
    "      sys.stdout.flush()\n",
    "    else:\n",
    "      sys.stdout.write(\".\")\n",
    "      sys.stdout.flush()\n",
    "      \n",
    "    last_percent_reported = percent\n",
    "        \n",
    "def maybe_download(filename, expected_bytes, force=False):\n",
    "  \"\"\"Download a file if not present, and make sure it's the right size.\"\"\"\n",
    "  dest_filename = os.path.join(data_root, filename)\n",
    "  if force or not os.path.exists(dest_filename):\n",
    "    print('Attempting to download:', filename) \n",
    "    filename, _ = urlretrieve(url + filename, dest_filename, reporthook=download_progress_hook)\n",
    "    print('\\nDownload Complete!')\n",
    "  statinfo = os.stat(dest_filename)\n",
    "  if statinfo.st_size == expected_bytes:\n",
    "    print('Found and verified', dest_filename)\n",
    "  else:\n",
    "    raise Exception(\n",
    "      'Failed to verify ' + dest_filename + '. Can you get to it with a browser?')\n",
    "  return dest_filename\n",
    "\n",
    "train_filename = maybe_download('notMNIST_large.tar.gz', 247336696)\n",
    "test_filename = maybe_download('notMNIST_small.tar.gz', 8458043)\n"
   ]
  },
  {
   "cell_type": "code",
   "execution_count": 3,
   "metadata": {},
   "outputs": [
    {
     "name": "stdout",
     "output_type": "stream",
     "text": [
      "./notMNIST_large already present - Skipping extraction of ./notMNIST_large.tar.gz.\n",
      "['./notMNIST_large/A', './notMNIST_large/B', './notMNIST_large/C', './notMNIST_large/D', './notMNIST_large/E', './notMNIST_large/F', './notMNIST_large/G', './notMNIST_large/H', './notMNIST_large/I', './notMNIST_large/J']\n",
      "./notMNIST_small already present - Skipping extraction of ./notMNIST_small.tar.gz.\n",
      "['./notMNIST_small/A', './notMNIST_small/B', './notMNIST_small/C', './notMNIST_small/D', './notMNIST_small/E', './notMNIST_small/F', './notMNIST_small/G', './notMNIST_small/H', './notMNIST_small/I', './notMNIST_small/J']\n"
     ]
    }
   ],
   "source": [
    "num_classes = 10\n",
    "np.random.seed(133)\n",
    "\n",
    "def maybe_extract(filename, force=False):\n",
    "  root = os.path.splitext(os.path.splitext(filename)[0])[0]  # remove .tar.gz\n",
    "  if os.path.isdir(root) and not force:\n",
    "    # You may override by setting force=True.\n",
    "    print('%s already present - Skipping extraction of %s.' % (root, filename))\n",
    "  else:\n",
    "    print('Extracting data for %s. This may take a while. Please wait.' % root)\n",
    "    tar = tarfile.open(filename)\n",
    "    sys.stdout.flush()\n",
    "    tar.extractall(data_root)\n",
    "    tar.close()\n",
    "  data_folders = [\n",
    "    os.path.join(root, d) for d in sorted(os.listdir(root))\n",
    "    if os.path.isdir(os.path.join(root, d))]\n",
    "  if len(data_folders) != num_classes:\n",
    "    raise Exception(\n",
    "      'Expected %d folders, one per class. Found %d instead.' % (\n",
    "        num_classes, len(data_folders)))\n",
    "  print(data_folders)\n",
    "  return data_folders\n",
    "  \n",
    "train_folders = maybe_extract(train_filename)\n",
    "test_folders = maybe_extract(test_filename)"
   ]
  },
  {
   "cell_type": "code",
   "execution_count": 4,
   "metadata": {},
   "outputs": [
    {
     "data": {
      "image/png": "[encoded data removed]",
      "text/plain": [
       "<IPython.core.display.Image object>"
      ]
     },
     "execution_count": 4,
     "metadata": {},
     "output_type": "execute_result"
    }
   ],
   "source": [
    "from IPython.display import Image\n",
    "Image(filename='/home/shreenath/personal-projects/mooc/ud730-deeplearning/notMNIST_small/B/RWNrbWFubkQudHRm.png') "
   ]
  },
  {
   "cell_type": "code",
   "execution_count": 5,
   "metadata": {},
   "outputs": [],
   "source": [
    "# We now want to convert the entire dataset into a 3D array\n",
    "# (image index, x, y), with mean = 0  and s.d. = 0.5\n",
    "img_wd = 28 #it is known\n",
    "img_ht = 28 #it is known\n",
    "\n",
    "def load_letter(folderpath, min_num_images):\n",
    "    '''Loading for a single character'''\n",
    "    img_files = os.listdir(folderpath)\n",
    "    tot_imgs = len(img_files)\n",
    "    dataset = np.ndarray(shape = (tot_imgs, img_wd, img_ht),\n",
    "                         dtype = np.float32)\n",
    "    img_index = 0\n",
    "    for img in img_files:\n",
    "        img_file_path = os.path.join(folderpath, img)\n",
    "        try:\n",
    "            img_data = (ndimage.imread(img_file_path).astype(float) - 255.0/2)/255.0\n",
    "            # We did the above to set the range of the image data to \n",
    "            # -0.5 to 0.5 (s.d.)\n",
    "            if img_data.shape != (img_wd, img_ht):\n",
    "                raise Exception('incorrect image shape')\n",
    "            dataset[img_index, :, :] = img_data\n",
    "            img_index = img_index + 1\n",
    "        except IOError as e:\n",
    "            print('file read error, skipping thsi file')\n",
    "    \n",
    "    if img_index<min_num_images:\n",
    "        raise Exception('fewer images thanr reqd.')\n",
    "                \n",
    "    print('Full dataset shape', dataset.shape)\n",
    "    print('Dataset Mean', np.mean(dataset))\n",
    "    print('Dataset SD', np.std(dataset))\n",
    "    return dataset\n",
    "        "
   ]
  },
  {
   "cell_type": "code",
   "execution_count": 6,
   "metadata": {},
   "outputs": [
    {
     "name": "stdout",
     "output_type": "stream",
     "text": [
      "['./notMNIST_large/A', './notMNIST_large/B', './notMNIST_large/C', './notMNIST_large/D', './notMNIST_large/E', './notMNIST_large/F', './notMNIST_large/G', './notMNIST_large/H', './notMNIST_large/I', './notMNIST_large/J']\n"
     ]
    }
   ],
   "source": [
    "print(train_folders)"
   ]
  },
  {
   "cell_type": "code",
   "execution_count": null,
   "metadata": {},
   "outputs": [],
   "source": []
  },
  {
   "cell_type": "code",
   "execution_count": 7,
   "metadata": {},
   "outputs": [],
   "source": [
    "# Below, we intend to store the read images into pickle dump\n",
    "# in the data folders_.pickle files\n",
    "def pickling(image_folders, min_num_images, force = False):\n",
    "    dataset_pickle_filenames=[]\n",
    "    for folder in image_folders:\n",
    "        set_filename = folder + '.pickle'\n",
    "        dataset_pickle_filenames.append(set_filename)\n",
    "        if os.path.exists(set_filename) and not force:\n",
    "            print(\"already exists the pickle file\")\n",
    "        else:\n",
    "            print('pickling %s file' % set_filename)\n",
    "            dataset = load_letter(folder, min_num_images)\n",
    "            try:\n",
    "                with open(set_filename, 'wb') as f:\n",
    "                    pickle.dump(dataset, f, pickle.HIGHEST_PROTOCOL)\n",
    "                    # just like that <--protocol\n",
    "            except Exception as e:\n",
    "                print('unable to save data to %s' % set_filename)\n",
    "    return dataset_pickle_filenames\n",
    "    # We returned the dataset file names where our normalised \n",
    "    # files are stored."
   ]
  },
  {
   "cell_type": "code",
   "execution_count": 8,
   "metadata": {},
   "outputs": [
    {
     "name": "stdout",
     "output_type": "stream",
     "text": [
      "already exists the pickle file\n",
      "already exists the pickle file\n",
      "already exists the pickle file\n",
      "already exists the pickle file\n",
      "already exists the pickle file\n",
      "already exists the pickle file\n",
      "already exists the pickle file\n",
      "already exists the pickle file\n",
      "already exists the pickle file\n",
      "already exists the pickle file\n",
      "already exists the pickle file\n",
      "already exists the pickle file\n",
      "already exists the pickle file\n",
      "already exists the pickle file\n",
      "already exists the pickle file\n",
      "already exists the pickle file\n",
      "already exists the pickle file\n",
      "already exists the pickle file\n",
      "already exists the pickle file\n",
      "already exists the pickle file\n",
      "['./notMNIST_large/A.pickle', './notMNIST_large/B.pickle', './notMNIST_large/C.pickle', './notMNIST_large/D.pickle', './notMNIST_large/E.pickle', './notMNIST_large/F.pickle', './notMNIST_large/G.pickle', './notMNIST_large/H.pickle', './notMNIST_large/I.pickle', './notMNIST_large/J.pickle']\n",
      "['./notMNIST_small/A.pickle', './notMNIST_small/B.pickle', './notMNIST_small/C.pickle', './notMNIST_small/D.pickle', './notMNIST_small/E.pickle', './notMNIST_small/F.pickle', './notMNIST_small/G.pickle', './notMNIST_small/H.pickle', './notMNIST_small/I.pickle', './notMNIST_small/J.pickle']\n"
     ]
    }
   ],
   "source": [
    "#print(train_folders)\n",
    "#print(test_folders)\n",
    "train_datasets = pickling(train_folders, 45000)\n",
    "test_datasets = pickling(test_folders, 1800)\n",
    "print(train_datasets)\n",
    "print(test_datasets)"
   ]
  },
  {
   "cell_type": "code",
   "execution_count": 9,
   "metadata": {},
   "outputs": [
    {
     "name": "stdout",
     "output_type": "stream",
     "text": [
      "1468432\n"
     ]
    }
   ],
   "source": [
    "with open(test_datasets[0],'r') as td1:\n",
    "    dataset1 = pickle.load(td1)\n",
    "    print(dataset1.size)"
   ]
  },
  {
   "cell_type": "code",
   "execution_count": 22,
   "metadata": {},
   "outputs": [
    {
     "name": "stdout",
     "output_type": "stream",
     "text": [
      "(28, 28)\n"
     ]
    },
    {
     "data": {
      "image/png": "[encoded data removed]",
      "text/plain": [
       "<matplotlib.figure.Figure at 0x7fe671e0ac50>"
      ]
     },
     "metadata": {},
     "output_type": "display_data"
    }
   ],
   "source": [
    "# Verifying that images are still the same\n",
    "import matplotlib.pyplot as plt\n",
    "with open('./notMNIST_small/B.pickle') as file:\n",
    "    img = pickle.load(file)\n",
    "    print(img[0].shape)\n",
    "    plt.imshow(img[2])"
   ]
  },
  {
   "cell_type": "code",
   "execution_count": 35,
   "metadata": {},
   "outputs": [
    {
     "name": "stdout",
     "output_type": "stream",
     "text": [
      "1873\n",
      "1873\n",
      "1873\n",
      "1873\n",
      "1873\n",
      "1873\n",
      "1872\n",
      "1872\n",
      "1872\n",
      "1872\n"
     ]
    },
    {
     "data": {
      "image/png": "[encoded data removed]",
      "text/plain": [
       "<matplotlib.figure.Figure at 0x7fe66d837910>"
      ]
     },
     "metadata": {},
     "output_type": "display_data"
    }
   ],
   "source": [
    "# Now verifying that data is balanced across all the classes\n",
    "fig=plt.figure()\n",
    "i=0\n",
    "for ds in test_datasets:\n",
    "    with open(ds) as file:\n",
    "        obj = pickle.load(file)\n",
    "        print(obj.shape[0])\n",
    "        fig.add_subplot(1,10,i)\n",
    "        plt.imshow(obj[0])\n",
    "        i=i+1\n",
    "plt.show()"
   ]
  },
  {
   "cell_type": "code",
   "execution_count": 36,
   "metadata": {},
   "outputs": [],
   "source": [
    "def make_arrays(tot_rows, imwidth, imheight):\n",
    "    if tot_rows!=0:\n",
    "        dataset = np.ndarray((tot_rows, imwidth, imheight), dtype=np.float32)\n",
    "        labels = np.ndarray(tot_rows, dtype=np.int32)\n",
    "    else:\n",
    "        dataset = None\n",
    "        labels = None\n",
    "    return dataset, labels\n",
    "        "
   ]
  },
  {
   "cell_type": "code",
   "execution_count": null,
   "metadata": {},
   "outputs": [],
   "source": []
  },
  {
   "cell_type": "code",
   "execution_count": 48,
   "metadata": {},
   "outputs": [
    {
     "name": "stdout",
     "output_type": "stream",
     "text": [
      "generating training data\n",
      "loaded data shape : (52912, 28, 28)\n",
      "loaded data shape : (52912, 28, 28)\n",
      "loaded data shape : (52912, 28, 28)\n",
      "loaded data shape : (52912, 28, 28)\n",
      "loaded data shape : (52912, 28, 28)\n",
      "loaded data shape : (52912, 28, 28)\n",
      "loaded data shape : (52912, 28, 28)\n",
      "loaded data shape : (52912, 28, 28)\n",
      "loaded data shape : (52912, 28, 28)\n",
      "loaded data shape : (52911, 28, 28)\n",
      "generating test data\n",
      "loaded data shape : (1873, 28, 28)\n",
      "loaded data shape : (1873, 28, 28)\n",
      "loaded data shape : (1873, 28, 28)\n",
      "loaded data shape : (1873, 28, 28)\n",
      "loaded data shape : (1873, 28, 28)\n",
      "loaded data shape : (1873, 28, 28)\n",
      "loaded data shape : (1872, 28, 28)\n",
      "loaded data shape : (1872, 28, 28)\n",
      "loaded data shape : (1872, 28, 28)\n",
      "loaded data shape : (1872, 28, 28)\n",
      "training: (20000, 28, 28) (20000,)\n",
      "validn: (10000, 28, 28) (10000,)\n",
      "test: (1000, 28, 28) (1000,)\n"
     ]
    }
   ],
   "source": [
    "def merge_datasets(pickle_files, train_size, validn_size=0):\n",
    "    num_classes = len(pickle_files)\n",
    "    validn_dataset, validn_labels = make_arrays(validn_size,img_wd, img_ht)\n",
    "    train_dataset, train_labels = make_arrays(train_size,img_wd, img_ht)\n",
    "    # // operator does an int division : its like floor, but with integers\n",
    "    vsize_per_class = validn_size // num_classes\n",
    "    tsize_per_class = train_size // num_classes\n",
    "    \n",
    "    start_v, start_t = 0, 0\n",
    "    end_v, end_t = vsize_per_class, tsize_per_class\n",
    "    end_l = vsize_per_class + tsize_per_class\n",
    "    \n",
    "    for label, pfile in enumerate(pickle_files):\n",
    "        # this adds an index 0,1,2.. to the pickle files as well\n",
    "        try:\n",
    "            with open(pfile, 'rb') as file:\n",
    "                data = pickle.load(file)\n",
    "                print('loaded data shape :',data.shape)\n",
    "                np.random.shuffle(data)\n",
    "                if validn_dataset is not None:\n",
    "                    validn_data = data[:vsize_per_class, :, :]\n",
    "                    validn_dataset[start_v:end_v, :, :] = validn_data\n",
    "                    validn_labels [start_v:end_v] = label\n",
    "                    start_v += vsize_per_class\n",
    "                    end_v += vsize_per_class\n",
    "                \n",
    "                # we are basically doing \n",
    "                # validn = 0 to 20\n",
    "                # test = 20 to 70, etc.\n",
    "                train_data = data[vsize_per_class:end_l, :, :]\n",
    "                train_dataset[start_t:end_t, :, :] = train_data\n",
    "                train_labels[start_t:end_t] = label\n",
    "                start_t += tsize_per_class\n",
    "                end_t += tsize_per_class\n",
    "        except Exception as e:\n",
    "            print('unable ot process data from ', pfile)\n",
    "            raise\n",
    "    return validn_dataset, validn_labels, train_dataset, train_labels\n",
    "\n",
    "\n",
    "train_size = 20000\n",
    "validn_size = 10000\n",
    "test_size = 1000\n",
    "\n",
    "print('generating training data')\n",
    "validn_dataset, validn_labels, train_dataset, train_labels = merge_datasets(train_datasets, train_size, validn_size)\n",
    "print('generating test data')\n",
    "_, _, test_dataset, test_labels = merge_datasets(test_datasets, test_size)\n",
    "# in above, we put validn size as default, so that validation set is not generated\n",
    "\n",
    "print('training:', train_dataset.shape, train_labels.shape)\n",
    "print('validn:', validn_dataset.shape, validn_labels.shape)\n",
    "print('test:', test_dataset.shape, test_labels.shape)\n",
    "\n",
    "\n",
    "    "
   ]
  },
  {
   "cell_type": "code",
   "execution_count": 49,
   "metadata": {},
   "outputs": [],
   "source": [
    "#noe randomizing the data\n",
    "def randomize(dataset, labels):\n",
    "    # we will use permutation function to generate a random ordering of all the items\n",
    "    perm = np.random.permutation(labels.shape[0]) # sicne all have sam enumber of rows\n",
    "    shuffled_dataset = dataset[perm, :,:]\n",
    "    shuffled_labels = labels[perm]\n",
    "    return shuffled_dataset, shuffled_labels\n",
    "\n",
    "train_dataset, train_labels = randomize(train_dataset, train_labels)\n",
    "test_dataset, test_labels = randomize(test_dataset, test_labels)\n",
    "validn_dataset, validn_labels = randomize(validn_dataset, validn_labels)"
   ]
  },
  {
   "cell_type": "code",
   "execution_count": 55,
   "metadata": {},
   "outputs": [
    {
     "name": "stdout",
     "output_type": "stream",
     "text": [
      "7 3 6\n",
      "0 3 7\n",
      "4 8 2\n",
      "9 6 0\n",
      "0 9 1\n",
      "2 5 4\n",
      "3 1 5\n",
      "5 1 3\n",
      "5 4 2\n",
      "8 7 0\n"
     ]
    }
   ],
   "source": [
    "# convincing that data is randomized\n",
    "# we can just check with labels, since they are one 2 one mapped\n",
    "# checking that images are the same will take some effrt. hence not doing it\n",
    "for i in range(10):\n",
    "    print(train_labels[i], test_labels[i],validn_labels[i])"
   ]
  },
  {
   "cell_type": "code",
   "execution_count": 56,
   "metadata": {},
   "outputs": [
    {
     "name": "stdout",
     "output_type": "stream",
     "text": [
      "compressed pickle file size: 97340439\n"
     ]
    }
   ],
   "source": [
    "#Saving the dataset now for processing\n",
    "\n",
    "full_pickle_file = os.path.join(data_root, 'notMNIST.pickle') # storing at \".\"\n",
    "try:\n",
    "    f=open(full_pickle_file, 'wb')\n",
    "    full_data = {\n",
    "        'train_dataset': train_dataset,\n",
    "        'train_labels': train_labels,\n",
    "        'test_dataset': test_dataset,\n",
    "        'test_labels': test_labels,\n",
    "        'validn_dataset': validn_dataset,\n",
    "        'validn_labels' : validn_labels,\n",
    "    }\n",
    "    pickle.dump(full_data, f, pickle.HIGHEST_PROTOCOL)\n",
    "    f.close()\n",
    "except Exception as e:\n",
    "    print(\"Error occured in pickle dumping to \", full_pickle_file)\n",
    "    \n",
    "statinfo = os.stat(full_pickle_file)\n",
    "print(\"compressed pickle file size:\", statinfo.st_size)"
   ]
  },
  {
   "cell_type": "code",
   "execution_count": null,
   "metadata": {},
   "outputs": [],
   "source": [
    "# TODO: train a liner model on this data"
   ]
  },
  {
   "cell_type": "code",
   "execution_count": 33,
   "metadata": {},
   "outputs": [
    {
     "data": {
      "text/plain": [
       "LogisticRegression(C=1.0, class_weight=None, dual=False, fit_intercept=True,\n",
       "          intercept_scaling=1, max_iter=100, multi_class='ovr', n_jobs=1,\n",
       "          penalty='l2', random_state=None, solver='liblinear', tol=0.0001,\n",
       "          verbose=0, warm_start=False)"
      ]
     },
     "execution_count": 33,
     "metadata": {},
     "output_type": "execute_result"
    }
   ],
   "source": [
    "data_root = '.'\n",
    "created_pickle_file = os.path.join(data_root, 'notMNIST.pickle')\n",
    "with open(created_pickle_file, 'rb') as f:\n",
    "    read_data = pickle.load(f)\n",
    "#     for k in read_data:\n",
    "#         print(k)\n",
    "\n",
    "train_ds = read_data['train_dataset']\n",
    "train_lbls = read_data['train_labels']\n",
    "\n",
    "test_ds = read_data['test_dataset']\n",
    "test_lbls = read_data['test_labels']\n",
    "\n",
    "from sklearn.linear_model import LogisticRegression\n",
    "import numpy as np\n",
    "\n",
    "model = LogisticRegression()\n",
    "\n",
    "num, h, w = train_ds.shape\n",
    "flatten_train_ds = np.zeros((num, h*w))\n",
    "\n",
    "for i in range(num):\n",
    "    flatten_train_ds[i,:] = train_ds[i,:,:].reshape(-1)\n",
    "\n",
    "model.fit(flatten_train_ds, train_lbls)"
   ]
  },
  {
   "cell_type": "code",
   "execution_count": null,
   "metadata": {},
   "outputs": [],
   "source": []
  },
  {
   "cell_type": "code",
   "execution_count": 37,
   "metadata": {},
   "outputs": [
    {
     "name": "stdout",
     "output_type": "stream",
     "text": [
      "0.8046\n"
     ]
    }
   ],
   "source": [
    "ds = read_data['validn_dataset']\n",
    "lbls = read_data['validn_labels']\n",
    "\n",
    "\n",
    "\n",
    "num, h, w = ds.shape\n",
    "flatten_ds = np.zeros((num, h*w))\n",
    "\n",
    "for i in range(num):\n",
    "    flatten_ds[i,:] = ds[i,:,:].reshape(-1)\n",
    "\n",
    "pred = model.predict(flatten_ds)\n",
    "\n",
    "\n",
    "from sklearn.metrics import accuracy_score\n",
    "\n",
    "print(accuracy_score(pred, lbls))"
   ]
  }
 ],
 "metadata": {
  "kernelspec": {
   "display_name": "Python 2",
   "language": "python",
   "name": "python2"
  },
  "language_info": {
   "codemirror_mode": {
    "name": "ipython",
    "version": 2
   },
   "file_extension": ".py",
   "mimetype": "text/x-python",
   "name": "python",
   "nbconvert_exporter": "python",
   "pygments_lexer": "ipython2",
   "version": "2.7.6"
  }
 },
 "nbformat": 4,
 "nbformat_minor": 2
}
